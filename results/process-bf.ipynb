{
 "cells": [
  {
   "cell_type": "code",
   "execution_count": 1,
   "metadata": {},
   "outputs": [],
   "source": [
    "import numpy\n",
    "import matplotlib.pyplot as plt\n",
    "import pandas as pd\n",
    "import os\n",
    "import seaborn as sns\n",
    "from scipy.stats import normaltest, shapiro, ttest_ind, mannwhitneyu"
   ]
  },
  {
   "cell_type": "code",
   "execution_count": 3,
   "metadata": {},
   "outputs": [],
   "source": [
    "ENERGY_FIELD = \"PACKAGE_ENERGY (J)\"\n",
    "MEASUREMENTS_PER_SEC = 5\n",
    "STARTUP_TIME_SEC = 4\n",
    "EXPERIMENT_TIME_SEC = 17"
   ]
  },
  {
   "cell_type": "code",
   "execution_count": 5,
   "metadata": {},
   "outputs": [],
   "source": [
    "directory = \"2025-04-02_09-58-41\"\n",
    "\n",
    "df_infos = []\n",
    "for filename in os.listdir(directory):\n",
    "    if filename.endswith(\".csv\"):\n",
    "        filepath = os.path.join(directory, filename)\n",
    "        run, set, experiment = filename.split(\".\")[0].split('_')\n",
    "        df_infos.append({\n",
    "            \"run\": run,\n",
    "            \"index\": set,\n",
    "            \"experiment\": experiment,\n",
    "            \"data\": pd.read_csv(filepath)\n",
    "        })"
   ]
  },
  {
   "cell_type": "code",
   "execution_count": 6,
   "metadata": {},
   "outputs": [
    {
     "data": {
      "text/html": [
       "<div>\n",
       "<style scoped>\n",
       "    .dataframe tbody tr th:only-of-type {\n",
       "        vertical-align: middle;\n",
       "    }\n",
       "\n",
       "    .dataframe tbody tr th {\n",
       "        vertical-align: top;\n",
       "    }\n",
       "\n",
       "    .dataframe thead th {\n",
       "        text-align: right;\n",
       "    }\n",
       "</style>\n",
       "<table border=\"1\" class=\"dataframe\">\n",
       "  <thead>\n",
       "    <tr style=\"text-align: right;\">\n",
       "      <th></th>\n",
       "      <th>run</th>\n",
       "      <th>applied</th>\n",
       "      <th>experiment</th>\n",
       "      <th>value</th>\n",
       "    </tr>\n",
       "  </thead>\n",
       "  <tbody>\n",
       "    <tr>\n",
       "      <th>0</th>\n",
       "      <td>10</td>\n",
       "      <td>True</td>\n",
       "      <td>respect-bfcache</td>\n",
       "      <td>300.392517</td>\n",
       "    </tr>\n",
       "    <tr>\n",
       "      <th>1</th>\n",
       "      <td>10</td>\n",
       "      <td>False</td>\n",
       "      <td>respect-bfcache</td>\n",
       "      <td>290.020691</td>\n",
       "    </tr>\n",
       "    <tr>\n",
       "      <th>2</th>\n",
       "      <td>11</td>\n",
       "      <td>True</td>\n",
       "      <td>respect-bfcache</td>\n",
       "      <td>304.338989</td>\n",
       "    </tr>\n",
       "    <tr>\n",
       "      <th>3</th>\n",
       "      <td>11</td>\n",
       "      <td>False</td>\n",
       "      <td>respect-bfcache</td>\n",
       "      <td>288.161926</td>\n",
       "    </tr>\n",
       "    <tr>\n",
       "      <th>4</th>\n",
       "      <td>12</td>\n",
       "      <td>True</td>\n",
       "      <td>respect-bfcache</td>\n",
       "      <td>290.289307</td>\n",
       "    </tr>\n",
       "  </tbody>\n",
       "</table>\n",
       "</div>"
      ],
      "text/plain": [
       "  run  applied       experiment       value\n",
       "0  10     True  respect-bfcache  300.392517\n",
       "1  10    False  respect-bfcache  290.020691\n",
       "2  11     True  respect-bfcache  304.338989\n",
       "3  11    False  respect-bfcache  288.161926\n",
       "4  12     True  respect-bfcache  290.289307"
      ]
     },
     "execution_count": 6,
     "metadata": {},
     "output_type": "execute_result"
    }
   ],
   "source": [
    "results = []\n",
    "\n",
    "for df_info in df_infos:\n",
    "    df = df_info['data']\n",
    "    energy_gradients = df[ENERGY_FIELD].diff()\n",
    "    value = energy_gradients[(MEASUREMENTS_PER_SEC*STARTUP_TIME_SEC):(MEASUREMENTS_PER_SEC*(STARTUP_TIME_SEC+EXPERIMENT_TIME_SEC))].copy()\n",
    "    \n",
    "    if df_info['run'] == '0': \n",
    "        continue\n",
    "    \n",
    "    results.append({\n",
    "        'run': df_info['run'],\n",
    "        'applied': not 'not-applied' in df_info['experiment'],\n",
    "        'experiment': 'respect-bfcache',\n",
    "        'value': value[value > 0].sum()\n",
    "    })\n",
    "\n",
    "df = pd.DataFrame(results)\n",
    "df.head()"
   ]
  },
  {
   "cell_type": "code",
   "execution_count": 7,
   "metadata": {},
   "outputs": [],
   "source": [
    "EXPERIMENTS = {\n",
    "\t\"respect-bfcache\": \"Respect the bfcache\",\n",
    "}"
   ]
  },
  {
   "cell_type": "code",
   "execution_count": 8,
   "metadata": {},
   "outputs": [
    {
     "name": "stdout",
     "output_type": "stream",
     "text": [
      "respect-bfcache True 30 30\n",
      "respect-bfcache False 30 30\n"
     ]
    }
   ],
   "source": [
    "data_all = []\n",
    "data_set = []\n",
    "for key, label in EXPERIMENTS.items():\n",
    "    for is_applied in [True, False]:\n",
    "        filtered_df = df[(df['experiment'] == key) & (df['applied'] == is_applied)]\n",
    "        \n",
    "        for value in filtered_df['value']:\n",
    "            data_all.append({\n",
    "                'applied': is_applied,\n",
    "                'experiment': key,\n",
    "                'experiment_label': label,\n",
    "                'value': value,\n",
    "                'type': 'all'\n",
    "            })\n",
    "\n",
    "        q1 = filtered_df['value'].quantile(0.25)\n",
    "        q3 = filtered_df['value'].quantile(0.75)\n",
    "        iqr = q3 - q1\n",
    "        lower_bound = q1 - 1.5 * iqr\n",
    "        upper_bound = q3 + 1.5 * iqr\n",
    "        filtered_df_no = filtered_df[(filtered_df['value'] >= lower_bound) & (filtered_df['value'] <= upper_bound)]\n",
    "        \n",
    "        for value in filtered_df_no['value']:\n",
    "            data_set.append({\n",
    "                'applied': is_applied,\n",
    "                'experiment': key,\n",
    "                'experiment_label': label,\n",
    "                'value': value,\n",
    "                'type': 'no outliers'\n",
    "            })\n",
    "        print(key, is_applied, len(filtered_df), len(filtered_df_no))\n",
    "df_all = pd.DataFrame(data_all)\n",
    "df_set = pd.DataFrame(data_set)"
   ]
  },
  {
   "cell_type": "code",
   "execution_count": 9,
   "metadata": {},
   "outputs": [
    {
     "data": {
      "image/png": "[encoded data removed]",
      "text/plain": [
       "<Figure size 800x600 with 1 Axes>"
      ]
     },
     "metadata": {},
     "output_type": "display_data"
    }
   ],
   "source": [
    "combined_df = pd.concat([df_all, df_set])\n",
    "\n",
    "for experiment, label in EXPERIMENTS.items():\n",
    "\tplt.figure(figsize=(8, 6))\n",
    "\tsns.violinplot(\n",
    "\t\tdata=combined_df[combined_df['experiment'] == experiment],\n",
    "\t\tx='type',\n",
    "\t\ty='value',\n",
    "\t\thue='applied',\n",
    "\t\tsplit=True\n",
    "\t)\n",
    "\tplt.title(f\"Distribution of CPU energy (J) for {label}\")\n",
    "\tplt.ylabel(\"CPU Energy (J)\")\n",
    "\tplt.xlabel(\"\")\n",
    "\tplt.legend(title=\"Rule is applied\")\n",
    "\tplt.show()"
   ]
  },
  {
   "cell_type": "code",
   "execution_count": 10,
   "metadata": {},
   "outputs": [
    {
     "name": "stdout",
     "output_type": "stream",
     "text": [
      "| Experiment          |   Mean (Applied) |   Mean (Not applied) |   Std Dev (Applied) |   Std Dev (Not applied) |   Shapiro-Wilk (Applied) |   Shapiro-Wilk (Not applied) |   t-test (p) | U-test (p)   |\n",
      "|:--------------------|-----------------:|---------------------:|--------------------:|------------------------:|-------------------------:|-----------------------------:|-------------:|:-------------|\n",
      "| Respect the bfcache |          289.987 |              291.696 |               6.926 |                   6.756 |                    0.487 |                        0.856 |        0.337 | N/A          |\n",
      "\n",
      "| Experiment          |   Mean diff (ΔX) |   Mean change (%) |   Effect size (Cohen's d) |\n",
      "|:--------------------|-----------------:|------------------:|--------------------------:|\n",
      "| Respect the bfcache |            1.709 |            0.589% |                      0.25 |\n"
     ]
    }
   ],
   "source": [
    "data = []\n",
    "data2 = []\n",
    "for key, label in EXPERIMENTS.items():\n",
    "\texp_data = []\n",
    "\tfor is_applied in [True, False]:\n",
    "\t\tfiltered_df = df_set[(df_set['applied'] == is_applied) & (df_set['experiment'] == key)]\n",
    "\n",
    "\t\tstat, p = normaltest(filtered_df['value'])\n",
    "\t\texp_data.append({\n",
    "\t\t\t'experiment': key,\n",
    "\t\t\t'mean': filtered_df['value'].mean(),\n",
    "\t\t\t'std_dev': filtered_df['value'].std(),\n",
    "\t\t\t'p': p,\n",
    "\t\t\t'data': filtered_df['value']\n",
    "\t\t})\n",
    "\n",
    "\tif exp_data[0]['p'] >= 0.05 and exp_data[1]['p'] >= 0.05:\n",
    "\t\twelch = ttest_ind(exp_data[0]['data'], exp_data[1]['data'], equal_var=False, alternative='two-sided').pvalue\n",
    "\t\tmwu = \"N/A\"\n",
    "\telse:\n",
    "\t\twelch = \"N/A\"\n",
    "\t\tmwu = mannwhitneyu(exp_data[0]['data'], exp_data[1]['data'], alternative='two-sided').pvalue\n",
    "\n",
    "\tdata.append({\n",
    "\t\t'Experiment': label,\n",
    "\t\t'Mean (Applied)': round(exp_data[0]['mean'], 3),\n",
    "\t\t'Mean (Not applied)': round(exp_data[1]['mean'], 3),\n",
    "\t\t'Std Dev (Applied)': round(exp_data[0]['std_dev'], 3),\n",
    "\t\t'Std Dev (Not applied)': round(exp_data[1]['std_dev'], 3),\n",
    "\t\t'Shapiro-Wilk (Applied)': round(exp_data[0]['p'], 3),\n",
    "\t\t'Shapiro-Wilk (Not applied)': round(exp_data[1]['p'], 3),\n",
    "\t\t't-test (p)': (\"<0.001\" if welch < 0.001 else round(welch, 3)) if welch != \"N/A\" else welch,\n",
    "\t\t'U-test (p)': (\"<0.001\" if mwu < 0.001 else round(mwu, 3)) if mwu != \"N/A\" else mwu\n",
    "\t})\n",
    "\n",
    "\tdata2.append({\n",
    "\t\t'Experiment': label,\n",
    "\t\t'Mean diff (ΔX)': round(exp_data[1]['mean'] - exp_data[0]['mean'], 3),\n",
    "\t\t'Mean change (%)': str(round((exp_data[1]['mean'] - exp_data[0]['mean']) / exp_data[0]['mean'] * 100, 3)) + \"%\",\n",
    "\t\t'Effect size (Cohen\\'s d)': \"N/A\" if welch == \"N/A\" else round((exp_data[1]['mean'] - exp_data[0]['mean']) / numpy.sqrt((exp_data[0]['std_dev'] ** 2 + exp_data[1]['std_dev'] ** 2) / 2), 3)\n",
    "\t})\n",
    "\n",
    "results_per_set = pd.DataFrame(data)\n",
    "markdown_table_per_set = results_per_set.to_markdown(index=False)\n",
    "print(markdown_table_per_set)\n",
    "print()\n",
    "results_per_set = pd.DataFrame(data2)\n",
    "markdown_table_per_set = results_per_set.to_markdown(index=False, colalign=(\"left\", \"right\", \"right\", \"right\"))\n",
    "print(markdown_table_per_set)"
   ]
  }
 ],
 "metadata": {
  "kernelspec": {
   "display_name": ".venv (3.13.0)",
   "language": "python",
   "name": "python3"
  },
  "language_info": {
   "codemirror_mode": {
    "name": "ipython",
    "version": 3
   },
   "file_extension": ".py",
   "mimetype": "text/x-python",
   "name": "python",
   "nbconvert_exporter": "python",
   "pygments_lexer": "ipython3",
   "version": "3.13.0"
  }
 },
 "nbformat": 4,
 "nbformat_minor": 2
}
